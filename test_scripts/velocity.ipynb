{
 "cells": [
  {
   "cell_type": "code",
   "execution_count": 1,
   "metadata": {},
   "outputs": [
    {
     "name": "stdout",
     "output_type": "stream",
     "text": [
      "Using matplotlib backend: MacOSX\n"
     ]
    }
   ],
   "source": [
    "import sys\n",
    "import sys\n",
    "import math\n",
    "import numpy as np\n",
    "from scipy import stats\n",
    "from scipy.optimize import curve_fit\n",
    "import os\n",
    "import matplotlib.pyplot as plt\n",
    "from matplotlib import cm\n",
    "import mpl_toolkits.mplot3d as m3d\n",
    "import matplotlib.pylab as pylab\n",
    "import operator\n",
    "from itertools import product\n",
    "import pickle\n",
    "import pandas as pd\n",
    "from mpl_toolkits.mplot3d import Axes3D\n",
    "%matplotlib"
   ]
  },
  {
   "cell_type": "code",
   "execution_count": 2,
   "metadata": {},
   "outputs": [
    {
     "data": {
      "text/plain": "<matplotlib.legend.Legend at 0x1510ea670>"
     },
     "execution_count": 2,
     "metadata": {},
     "output_type": "execute_result"
    }
   ],
   "source": [
    "lista_analytical=np.load('/Users/avantgarde_jack/PyEspresso/espresso_walberla/test_scripts/analytical_vel.txt.npy')\n",
    "lista_measured=np.load('/Users/avantgarde_jack/PyEspresso/espresso_walberla/test_scripts/measured_vel.txt.npy')\n",
    "lista_analytical_og=np.load('/Users/avantgarde_jack/PyEspresso/espresso_walberla/test_scripts/analytical_ogespresso.txt.npy')\n",
    "lista_measured_og=np.load('/Users/avantgarde_jack/PyEspresso/espresso_walberla/test_scripts/measured_ogespresso.txt.npy')\n",
    "# lista_analytical_no_correction=np.load('/Users/avantgarde_jack/PyEspresso/espresso_walberla/test_scripts/analytical_vel_ohne.txt.npy')\n",
    "\n",
    "plot_series = pd.Series(lista_analytical)\n",
    "plot_series_2 = pd.Series(lista_measured)\n",
    "plot_series_3 = pd.Series(lista_analytical_og)\n",
    "plot_series_4 = pd.Series(lista_measured_og)\n",
    "# plot_series_3 = pd.Series(lista_analytical_no_correction)\n",
    "plot_series.plot(legend=True)\n",
    "plt.show()\n",
    "plot_series_2.plot(legend=True)\n",
    "plt.show()\n",
    "plot_series_3.plot(legend=True)\n",
    "plt.show()\n",
    "plot_series_4.plot(legend=True)\n",
    "plt.show()\n",
    "# plot_series_3.plot(legend=True)\n",
    "# plt.show()\n",
    "plt.legend(['analytical','measured'])\n",
    "# plt.show()"
   ]
  },
  {
   "cell_type": "code",
   "execution_count": 85,
   "metadata": {},
   "outputs": [
    {
     "name": "stdout",
     "output_type": "stream",
     "text": [
      "(16, 16)\n"
     ]
    },
    {
     "data": {
      "text/plain": "<mpl_toolkits.mplot3d.art3d.Poly3DCollection at 0x14f4c2fd0>"
     },
     "execution_count": 85,
     "metadata": {},
     "output_type": "execute_result"
    }
   ],
   "source": [
    "lista=np.load('/Users/avantgarde_jack/PyEspresso/espresso_walberla/test_scripts/brzi_gonzalez.txt.npy')\n",
    "# print(np.shape(lista[:,:,8]))\n",
    "# actual_list=[]\n",
    "# for elem in lista[:,:,8]:\n",
    "#     for elem_in in elem:\n",
    "#         # print(np.shape(elem_in))\n",
    "#         actual_list.append(np.linalg.norm(elem_in))\n",
    "# plot_series = pd.Series(actual_list)\n",
    "# plot_series.plot()\n",
    "\n",
    "\n",
    "grid = np.zeros((16,16))\n",
    "\n",
    "for i,x in enumerate(hamal):\n",
    "    for j,y in enumerate(x):\n",
    "        grid[i,j] = np.linalg.norm(y)\n",
    "print(np.shape(grid))\n",
    "X ,Y = np.meshgrid(np.arange(np.shape(grid)[0]),np.arange(np.shape(grid)[1]))\n",
    "#     # grid[i,j,k]=np.linalg.norm(hamal[i,j,k])\n",
    "# # print(grid)\n",
    "fig = plt.figure()\n",
    "ax = fig.add_subplot(projection='3d')\n",
    "ax.plot_surface(X,Y,grid, cmap=cm.coolwarm)\n",
    "# ax.set_xlim(0,20)\n",
    "# ax.set_ylim(0,20)\n",
    "# for x in grid:\n",
    "#     for y in x:\n",
    "#         if y!=0:\n",
    "#             print(y)\n",
    "# plt.show()\n",
    "\n",
    "# # plt.show()\n",
    "# # for (f,g,h) in :\n",
    "# #     print(np.linalg.norm((float(f),float(g),float(h))))\n",
    "# # hold_me_tight=[]\n",
    "# # with open('/home/lv70806/deniz/upload/pypresso_testing/raspberry_filaments/correlation_tests_LB/brzi_gonzalez.txt', 'r') as target:\n",
    "# #     for line in target:\n",
    "# #         a,s,d,f,g,h = line.strip().split(' ')\n",
    "# #         hold_me_tight.append(np.linalg.norm((float(f),float(g),float(h))))"
   ]
  },
  {
   "cell_type": "code",
   "execution_count": 29,
   "metadata": {},
   "outputs": [
    {
     "name": "stdout",
     "output_type": "stream",
     "text": [
      "(16, 16, 3)\n"
     ]
    },
    {
     "data": {
      "text/plain": "<AxesSubplot:>"
     },
     "execution_count": 29,
     "metadata": {},
     "output_type": "execute_result"
    },
    {
     "data": {
      "image/png": "[encoded data removed]",
      "text/plain": "<Figure size 432x288 with 1 Axes>"
     },
     "metadata": {
      "needs_background": "light"
     },
     "output_type": "display_data"
    }
   ],
   "source": [
    "lista=np.load('/Users/avantgarde_jack/PyEspresso/espresso_walberla/test_scripts/brzi_gonzalez_ohne.txt.npy')\n",
    "print(np.shape(lista[:,:,8]))\n",
    "actual_list=[]\n",
    "for elem in lista[:,:,8]:\n",
    "    for elem_in in elem:\n",
    "        # print(np.shape(elem_in))\n",
    "        actual_list.append(np.linalg.norm(elem_in))\n",
    "plot_series = pd.Series(actual_list)\n",
    "datafrm.plot()\n",
    "\n",
    "# for (f,g,h) in :\n",
    "#     print(np.linalg.norm((float(f),float(g),float(h))))\n",
    "# hold_me_tight=[]\n",
    "# with open('/home/lv70806/deniz/upload/pypresso_testing/raspberry_filaments/correlation_tests_LB/brzi_gonzalez.txt', 'r') as target:\n",
    "#     for line in target:\n",
    "#         a,s,d,f,g,h = line.strip().split(' ')\n",
    "#         hold_me_tight.append(np.linalg.norm((float(f),float(g),float(h))))"
   ]
  },
  {
   "cell_type": "code",
   "execution_count": null,
   "metadata": {},
   "outputs": [],
   "source": []
  }
 ],
 "metadata": {
  "kernelspec": {
   "display_name": "Python 3.9.4 64-bit",
   "name": "python394jvsc74a57bd0aee8b7b246df8f9039afb4144a1f6fd8d2ca17a180786b69acc140d282b71a49"
  },
  "language_info": {
   "name": "python",
   "version": ""
  },
  "metadata": {
   "interpreter": {
    "hash": "aee8b7b246df8f9039afb4144a1f6fd8d2ca17a180786b69acc140d282b71a49"
   }
  },
  "orig_nbformat": 2
 },
 "nbformat": 4,
 "nbformat_minor": 2
}